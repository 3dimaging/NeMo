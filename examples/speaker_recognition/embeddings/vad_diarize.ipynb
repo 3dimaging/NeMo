{
 "cells": [
  {
   "cell_type": "code",
   "execution_count": 2,
   "metadata": {},
   "outputs": [],
   "source": [
    "import pickle\n",
    "import numpy as np\n",
    "from sklearn.cluster import SpectralClustering\n",
    "from pyannote.core import Segment, Timeline, Annotation\n",
    "from pyannote.metrics.diarization import DiarizationErrorRate\n",
    "import os\n",
    "import json\n",
    "import math\n",
    "from copy import deepcopy"
   ]
  },
  {
   "cell_type": "code",
   "execution_count": 3,
   "metadata": {},
   "outputs": [],
   "source": [
    "def get_contiguous_stamps(stamps):\n",
    "    lines = deepcopy(stamps)\n",
    "    contiguous_stamps = []\n",
    "    for i in range(len(lines)-1):\n",
    "        start, end, label = lines[i].split()\n",
    "        next_start, next_end, next_label = lines[i+1].split()\n",
    "        if float(end) > float(next_start):\n",
    "            avg = str((float(next_start) + float(end)) / 2.0)\n",
    "            lines[i+1] = ' '.join([avg, next_end, next_label])\n",
    "            contiguous_stamps.append(start + \" \" + avg + \" \" + label)\n",
    "        else:\n",
    "            contiguous_stamps.append(start + \" \" + end + \" \" + label)\n",
    "    start, end, label = lines[-1].split()\n",
    "    contiguous_stamps.append(start + \" \" + end + \" \" + label)\n",
    "    return contiguous_stamps\n",
    "\n",
    "\n",
    "def merge_stamps(lines):\n",
    "    stamps = deepcopy(lines)\n",
    "    overlap_stamps = []\n",
    "    for i in range(len(stamps)-1):\n",
    "        start, end, label = stamps[i].split()\n",
    "        next_start, next_end, next_label = stamps[i+1].split()\n",
    "        if float(end) == float(next_start) and label == next_label:\n",
    "            stamps[i+1] = ' '.join([start, next_end, next_label])   \n",
    "        else:\n",
    "            overlap_stamps.append(start + \" \" + end + \" \" + label)\n",
    "    \n",
    "    start, end, label = stamps[-1].split()\n",
    "    overlap_stamps.append(start + \" \" + end + \" \" + label)\n",
    "    \n",
    "    return overlap_stamps\n",
    "\n",
    "def combine_stamps(stamps):\n",
    "    combine=[]\n",
    "    idx = 0\n",
    "    prev_start,prev_end,prev_speaker = stamps[idx].split()\n",
    "    while idx < len(stamps)-1:\n",
    "        idx+=1\n",
    "        start,end,speaker = stamps[idx].split()\n",
    "        if speaker == prev_speaker and start <= prev_end:\n",
    "            prev_end = end\n",
    "        else:\n",
    "            combine.append(\"{} {} {}\".format(prev_start,prev_end,prev_speaker))\n",
    "            prev_start = start\n",
    "            prev_end = end\n",
    "            prev_speaker = speaker\n",
    "        \n",
    "    combine.append(\"{} {} {}\".format(prev_start,end,speaker))\n",
    "    return combine  \n",
    "\n",
    "def write_audacity_file(labels,filename):\n",
    "    with open(filename,'w') as f:\n",
    "        for line in labels:\n",
    "            start,end,speaker = line.strip().split()\n",
    "            f.write(\"{}\\t{}\\t{}\\n\".format(start,end,speaker))\n",
    "    print(\"wrote labels to audacity type label file at \",filename)\n",
    "\n",
    "def labels_to_pyannote_object(labels):\n",
    "    annotation = Annotation()\n",
    "    for label in labels:\n",
    "        start,end,speaker = label.strip().split()\n",
    "        start,end = float(start),float(end)\n",
    "        annotation[Segment(start,end)]=speaker\n",
    "    \n",
    "    return annotation\n",
    "\n",
    "def rttm_to_audacity_labels(rttm_filename,write=False):\n",
    "    outname = rttm_filename.split('/')[-1]\n",
    "    outname = outname[:-5]+'.txt'\n",
    "    labels=[]\n",
    "    if write:\n",
    "        g=open(outname,'w')\n",
    "    with open(rttm_filename,'r') as f:\n",
    "        for line in f.readlines():\n",
    "            rttm = line.strip().split()\n",
    "            start,end,speaker = float(rttm[3]),float(rttm[4])+float(rttm[3]),rttm[7]\n",
    "            labels.append('{} {} {}'.format(start,end,speaker))\n",
    "            if write:\n",
    "                g.write(\"{}\\t{}\\t{}\\n\".format(start,end,speaker))\n",
    "    if write:\n",
    "        print(\"wrote to {}\".format(outname))\n",
    "        g.close()\n",
    "    else:\n",
    "        return labels"
   ]
  },
  {
   "cell_type": "code",
   "execution_count": 10,
   "metadata": {},
   "outputs": [
    {
     "name": "stdout",
     "output_type": "stream",
     "text": [
      "Number of files to diarize:  2\n",
      "sample 'iafs' embeddings shape is (256,)\n",
      "\n"
     ]
    }
   ],
   "source": [
    "embeddings_file = 'test_diarize_embeddings.pkl'\n",
    "reco2num = '/disk2/datasets/NIST_SRE_2000_LDC2001S97/NIST_SRE_2000_LDC2001S97_16k/reco2num'\n",
    "RTTM_DIR= '/disk2/datasets/NIST_SRE_2000_LDC2001S97/NIST_SRE_2000_LDC2001S97_16k/disk8_RTTMs'\n",
    "# '/disk2/datasets/FisherEnglishTrainingSpeech/RTTM/'\n",
    "\n",
    "manifest_path = '/disk2/datasets/NIST_SRE_2000_LDC2001S97/NIST_SRE_2000_LDC2001S97_16k/test_diarize.json'\n",
    "# /disk2/datasets/NIST_SRE_2000_LDC2001S97/NIST_SRE_2000_LDC2001S97_16k/test_diarize.json'\n",
    "# '/disk2/datasets/FisherEnglishTrainingSpeech/vad_output/speaker.json'\n",
    "\n",
    "\n",
    "embeddings = pickle.load(open(embeddings_file,'rb'))\n",
    "num_files = len(embeddings.keys())\n",
    "print(\"Number of files to diarize: \",num_files)\n",
    "sample = list(embeddings.keys())[0]\n",
    "print(\"sample '{}' embeddings shape is {}\\n\".format(sample, embeddings[sample][0].shape))\n",
    "\n",
    "WINDOW=1.5\n",
    "SHIFT=0.75\n",
    "SAMPLE_RATE=16000\n",
    "all_hypothesis=[]\n",
    "all_reference=[]\n",
    "\n",
    "SPEAKERS = {}\n",
    "if type(reco2num) is int:\n",
    "    for key in embeddings.keys():\n",
    "        SPEAKERS[key]=reco2num\n",
    "else:\n",
    "    for key in open(reco2num).readlines():\n",
    "        key = key.strip()\n",
    "        wav_id, num = key.split()\n",
    "        SPEAKERS[wav_id] = int(num)\n",
    "\n",
    "with open(manifest_path,'r') as manifest:\n",
    "    time_stamps={}\n",
    "    for line in manifest.readlines():\n",
    "        line = line.strip()\n",
    "        line = json.loads(line)\n",
    "        audio,offset,duration = line['audio_filepath'],line['offset'],line['duration']\n",
    "        audio = os.path.basename(audio).split('.')[0]\n",
    "        if audio not in time_stamps:\n",
    "            time_stamps[audio]=[]\n",
    "        start = offset\n",
    "        base = math.ceil((duration-WINDOW)/SHIFT) \n",
    "        slices = 1 if base < 0 else base + 1 \n",
    "        for slice_id in range(slices):\n",
    "            end = start + WINDOW\n",
    "            stamp = '{:.3f} {:.3f} '.format(start,end)\n",
    "            time_stamps[audio].append(stamp)\n",
    "            start = offset + (slice_id+1)*SHIFT"
   ]
  },
  {
   "cell_type": "code",
   "execution_count": 11,
   "metadata": {},
   "outputs": [
    {
     "ename": "AssertionError",
     "evalue": "",
     "output_type": "error",
     "traceback": [
      "\u001b[0;31m---------------------------------------------------------------------------\u001b[0m",
      "\u001b[0;31mAssertionError\u001b[0m                            Traceback (most recent call last)",
      "\u001b[0;32m<ipython-input-11-b084d05c132b>\u001b[0m in \u001b[0;36m<module>\u001b[0;34m\u001b[0m\n\u001b[1;32m      8\u001b[0m         \u001b[0mlines\u001b[0m \u001b[0;34m=\u001b[0m \u001b[0mtime_stamps\u001b[0m\u001b[0;34m[\u001b[0m\u001b[0muniq_key\u001b[0m\u001b[0;34m]\u001b[0m\u001b[0;34m\u001b[0m\u001b[0;34m\u001b[0m\u001b[0m\n\u001b[1;32m      9\u001b[0m         \u001b[0mcluster_labels\u001b[0m \u001b[0;34m=\u001b[0m \u001b[0mcluster_method\u001b[0m\u001b[0;34m.\u001b[0m\u001b[0mlabels_\u001b[0m\u001b[0;34m\u001b[0m\u001b[0;34m\u001b[0m\u001b[0m\n\u001b[0;32m---> 10\u001b[0;31m         \u001b[0;32massert\u001b[0m \u001b[0mlen\u001b[0m\u001b[0;34m(\u001b[0m\u001b[0mcluster_labels\u001b[0m\u001b[0;34m)\u001b[0m\u001b[0;34m==\u001b[0m\u001b[0mlen\u001b[0m\u001b[0;34m(\u001b[0m\u001b[0mlines\u001b[0m\u001b[0;34m)\u001b[0m\u001b[0;34m\u001b[0m\u001b[0;34m\u001b[0m\u001b[0m\n\u001b[0m\u001b[1;32m     11\u001b[0m         \u001b[0;32mfor\u001b[0m \u001b[0midx\u001b[0m\u001b[0;34m,\u001b[0m\u001b[0mlabel\u001b[0m \u001b[0;32min\u001b[0m \u001b[0menumerate\u001b[0m\u001b[0;34m(\u001b[0m\u001b[0mcluster_labels\u001b[0m\u001b[0;34m)\u001b[0m\u001b[0;34m:\u001b[0m\u001b[0;34m\u001b[0m\u001b[0;34m\u001b[0m\u001b[0m\n\u001b[1;32m     12\u001b[0m             \u001b[0mtag\u001b[0m \u001b[0;34m=\u001b[0m \u001b[0;34m'speaker_'\u001b[0m\u001b[0;34m+\u001b[0m\u001b[0mstr\u001b[0m\u001b[0;34m(\u001b[0m\u001b[0mlabel\u001b[0m\u001b[0;34m)\u001b[0m\u001b[0;34m\u001b[0m\u001b[0;34m\u001b[0m\u001b[0m\n",
      "\u001b[0;31mAssertionError\u001b[0m: "
     ]
    }
   ],
   "source": [
    "for uniq_key in embeddings.keys():\n",
    "    NUM_SPEAKERS = SPEAKERS[uniq_key]\n",
    "    if NUM_SPEAKERS>=2:\n",
    "        emb = embeddings[uniq_key]\n",
    "        emb = np.asarray(emb)\n",
    "        cluster_method = SpectralClustering(n_clusters=NUM_SPEAKERS,random_state=42)\n",
    "        cluster_method.fit(emb)\n",
    "        lines = time_stamps[uniq_key]\n",
    "        cluster_labels = cluster_method.labels_\n",
    "        assert len(cluster_labels)==len(lines)\n",
    "        for idx,label in enumerate(cluster_labels):\n",
    "            tag = 'speaker_'+str(label)\n",
    "            lines[idx]+=tag\n",
    "        #ReSegmentation -> VAD and Segmented Results \n",
    "        a = get_contiguous_stamps(lines)\n",
    "        labels = merge_stamps(a)\n",
    "        hypothesis = labels_to_pyannote_object(labels)\n",
    "        all_hypothesis.append(hypothesis)\n",
    "#         write_audacity_file(labels,uniq_key[:-4]+'.txt')\n",
    "        \n",
    "        rttm_file=os.path.join(RTTM_DIR,uniq_key+'.rttm')\n",
    "        ref_labels = rttm_to_audacity_labels(rttm_file)\n",
    "#         ref_labels = combine_stamps(ref_labels)\n",
    "        reference = labels_to_pyannote_object(ref_labels)\n",
    "        all_reference.append(reference)"
   ]
  },
  {
   "cell_type": "code",
   "execution_count": 12,
   "metadata": {
    "scrolled": true
   },
   "outputs": [
    {
     "data": {
      "text/plain": [
       "'iait'"
      ]
     },
     "execution_count": 12,
     "metadata": {},
     "output_type": "execute_result"
    }
   ],
   "source": [
    "uniq_key"
   ]
  },
  {
   "cell_type": "code",
   "execution_count": 15,
   "metadata": {},
   "outputs": [
    {
     "data": {
      "text/plain": [
       "734"
      ]
     },
     "execution_count": 15,
     "metadata": {},
     "output_type": "execute_result"
    }
   ],
   "source": [
    "time_stamps['iait'].__len__()"
   ]
  },
  {
   "cell_type": "code",
   "execution_count": 16,
   "metadata": {},
   "outputs": [
    {
     "data": {
      "text/plain": [
       "1065"
      ]
     },
     "execution_count": 16,
     "metadata": {},
     "output_type": "execute_result"
    }
   ],
   "source": [
    "embeddings['iait'].__len__()"
   ]
  },
  {
   "cell_type": "code",
   "execution_count": 8,
   "metadata": {},
   "outputs": [
    {
     "name": "stderr",
     "output_type": "stream",
     "text": [
      "/home/nithin-dl1804/.conda/envs/NeMo/lib/python3.6/site-packages/pyannote/metrics/utils.py:184: UserWarning: 'uem' was approximated by the union of 'reference' and 'hypothesis' extents.\n",
      "  \"'uem' was approximated by the union of 'reference' \"\n"
     ]
    },
    {
     "name": "stdout",
     "output_type": "stream",
     "text": [
      "overall DER: 0.485\n"
     ]
    },
    {
     "data": {
      "text/plain": [
       "{'missed detection': 10540.060499999996,\n",
       " 'false alarm': 3920.1859999999956,\n",
       " 'correct': 36973.478,\n",
       " 'total': 64221.34400000001,\n",
       " 'confusion': 16707.80549999999}"
      ]
     },
     "execution_count": 8,
     "metadata": {},
     "output_type": "execute_result"
    }
   ],
   "source": [
    "metric = DiarizationErrorRate()\n",
    "for reference, hypothesis in zip(all_reference,all_hypothesis):\n",
    "    metric(reference,hypothesis,detailed=True)\n",
    "\n",
    "print(\"overall DER: {:.3f}\".format(abs(metric)))\n",
    "metric[:]"
   ]
  },
  {
   "cell_type": "code",
   "execution_count": 9,
   "metadata": {},
   "outputs": [],
   "source": [
    "reference = labels_to_pyannote_object(ref_labels)"
   ]
  },
  {
   "cell_type": "code",
   "execution_count": 10,
   "metadata": {},
   "outputs": [
    {
     "name": "stdout",
     "output_type": "stream",
     "text": [
      "**\n"
     ]
    }
   ],
   "source": [
    "print('**')"
   ]
  },
  {
   "cell_type": "code",
   "execution_count": 11,
   "metadata": {
    "scrolled": false
   },
   "outputs": [
    {
     "data": {
      "image/png": "[encoded data removed]",
      "text/plain": [
       "<pyannote.core.annotation.Annotation at 0x7f25686d9f28>"
      ]
     },
     "execution_count": 11,
     "metadata": {},
     "output_type": "execute_result"
    }
   ],
   "source": [
    "hypothesis"
   ]
  },
  {
   "cell_type": "code",
   "execution_count": 12,
   "metadata": {},
   "outputs": [
    {
     "data": {
      "image/png": "[encoded data removed]",
      "text/plain": [
       "<pyannote.core.annotation.Annotation at 0x7f25f1f55208>"
      ]
     },
     "execution_count": 12,
     "metadata": {},
     "output_type": "execute_result"
    }
   ],
   "source": [
    "reference"
   ]
  },
  {
   "cell_type": "code",
   "execution_count": 8,
   "metadata": {
    "scrolled": true
   },
   "outputs": [
    {
     "data": {
      "text/plain": [
       "{'iafs': ['0.000 1.500 ',\n",
       "  '1.203 2.703 ',\n",
       "  '1.953 3.453 ',\n",
       "  '2.703 4.203 ',\n",
       "  '3.464 4.964 ',\n",
       "  '5.261 6.761 ',\n",
       "  '6.011 7.511 ',\n",
       "  '6.761 8.261 ',\n",
       "  '7.511 9.011 ',\n",
       "  '8.180 9.680 ',\n",
       "  '8.930 10.430 ',\n",
       "  '10.222 11.722 ',\n",
       "  '10.972 12.472 ',\n",
       "  '11.722 13.222 ',\n",
       "  '13.717 15.217 ',\n",
       "  '13.918 15.418 ',\n",
       "  '15.333 16.833 ',\n",
       "  '16.083 17.583 ',\n",
       "  '16.833 18.333 ',\n",
       "  '15.589 17.089 ',\n",
       "  '17.532 19.032 ',\n",
       "  '17.910 19.410 ',\n",
       "  '19.073 20.573 ',\n",
       "  '19.823 21.323 ',\n",
       "  '19.682 21.182 ',\n",
       "  '21.462 22.962 ',\n",
       "  '22.212 23.712 ',\n",
       "  '22.962 24.462 ',\n",
       "  '23.082 24.582 ',\n",
       "  '24.512 26.012 ',\n",
       "  '25.262 26.762 ',\n",
       "  '26.012 27.512 ',\n",
       "  '26.762 28.262 ',\n",
       "  '27.512 29.012 ',\n",
       "  '28.262 29.762 ',\n",
       "  '29.012 30.512 ',\n",
       "  '30.222 31.722 ',\n",
       "  '30.972 32.472 ',\n",
       "  '32.382 33.882 ',\n",
       "  '33.132 34.632 ',\n",
       "  '33.882 35.382 ',\n",
       "  '34.632 36.132 ',\n",
       "  '35.382 36.882 ',\n",
       "  '33.712 35.212 ',\n",
       "  '36.719 38.219 ',\n",
       "  '37.469 38.969 ',\n",
       "  '38.219 39.719 ',\n",
       "  '38.969 40.469 ',\n",
       "  '39.281 40.781 ',\n",
       "  '40.031 41.531 ',\n",
       "  '40.781 42.281 ',\n",
       "  '41.531 43.031 ',\n",
       "  '42.281 43.781 ',\n",
       "  '43.031 44.531 ',\n",
       "  '41.394 42.894 ',\n",
       "  '42.144 43.644 ',\n",
       "  '42.894 44.394 ',\n",
       "  '43.644 45.144 ',\n",
       "  '44.394 45.894 ',\n",
       "  '45.144 46.644 ',\n",
       "  '45.894 47.394 ',\n",
       "  '46.644 48.144 ',\n",
       "  '47.394 48.894 ',\n",
       "  '48.033 49.533 ',\n",
       "  '48.783 50.283 ',\n",
       "  '49.533 51.033 ',\n",
       "  '49.772 51.272 ',\n",
       "  '50.522 52.022 ',\n",
       "  '51.272 52.772 ',\n",
       "  '52.022 53.522 ',\n",
       "  '52.772 54.272 ',\n",
       "  '53.522 55.022 ',\n",
       "  '54.272 55.772 ',\n",
       "  '55.022 56.522 ',\n",
       "  '56.282 57.782 ',\n",
       "  '57.032 58.532 ',\n",
       "  '57.782 59.282 ',\n",
       "  '58.532 60.032 ',\n",
       "  '59.282 60.782 ',\n",
       "  '60.032 61.532 ',\n",
       "  '60.782 62.282 ',\n",
       "  '61.532 63.032 ',\n",
       "  '62.282 63.782 ',\n",
       "  '63.032 64.532 ',\n",
       "  '56.932 58.432 ',\n",
       "  '59.122 60.622 ',\n",
       "  '59.872 61.372 ',\n",
       "  '61.162 62.662 ',\n",
       "  '63.873 65.373 ',\n",
       "  '64.623 66.123 ',\n",
       "  '64.638 66.138 ',\n",
       "  '65.388 66.888 ',\n",
       "  '66.138 67.638 ',\n",
       "  '66.888 68.388 ',\n",
       "  '67.638 69.138 ',\n",
       "  '66.818 68.318 ',\n",
       "  '67.568 69.068 ',\n",
       "  '68.318 69.818 ',\n",
       "  '69.068 70.568 ',\n",
       "  '69.818 71.318 ',\n",
       "  '70.568 72.068 ',\n",
       "  '71.318 72.818 ',\n",
       "  '72.068 73.568 ',\n",
       "  '72.818 74.318 ',\n",
       "  '73.340 74.840 ',\n",
       "  '74.090 75.590 ',\n",
       "  '74.782 76.282 ',\n",
       "  '75.532 77.032 ',\n",
       "  '76.652 78.152 ',\n",
       "  '77.402 78.902 ',\n",
       "  '78.152 79.652 ',\n",
       "  '78.202 79.702 ',\n",
       "  '80.032 81.532 ',\n",
       "  '80.312 81.812 ',\n",
       "  '81.062 82.562 ',\n",
       "  '82.312 83.812 ',\n",
       "  '83.062 84.562 ',\n",
       "  '83.932 85.432 ',\n",
       "  '84.682 86.182 ',\n",
       "  '85.432 86.932 ',\n",
       "  '85.853 87.353 ',\n",
       "  '86.603 88.103 ',\n",
       "  '87.353 88.853 ',\n",
       "  '88.103 89.603 ',\n",
       "  '88.052 89.552 ',\n",
       "  '88.802 90.302 ',\n",
       "  '89.552 91.052 ',\n",
       "  '90.145 91.645 ',\n",
       "  '90.895 92.395 ',\n",
       "  '91.645 93.145 ',\n",
       "  '92.395 93.895 ',\n",
       "  '93.145 94.645 ']}"
      ]
     },
     "execution_count": 8,
     "metadata": {},
     "output_type": "execute_result"
    }
   ],
   "source": [
    "time_stamps"
   ]
  },
  {
   "cell_type": "code",
   "execution_count": null,
   "metadata": {},
   "outputs": [],
   "source": []
  }
 ],
 "metadata": {
  "kernelspec": {
   "display_name": "Python 3",
   "language": "python",
   "name": "python3"
  }
 },
 "nbformat": 4,
 "nbformat_minor": 4
}
