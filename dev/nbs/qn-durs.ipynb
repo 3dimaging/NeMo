{
 "cells": [
  {
   "cell_type": "markdown",
   "metadata": {},
   "source": [
    "# QN durs"
   ]
  },
  {
   "cell_type": "code",
   "execution_count": 122,
   "metadata": {},
   "outputs": [],
   "source": [
    "%reload_ext autoreload\n",
    "%autoreload 2\n",
    "\n",
    "import os\n",
    "import nemo\n",
    "import copy\n",
    "import tqdm\n",
    "import timeit\n",
    "import shutil\n",
    "import pathlib\n",
    "import attrdict\n",
    "import itertools\n",
    "import numpy as np\n",
    "import matplotlib.pyplot as plt\n",
    "\n",
    "from ruamel import yaml\n",
    "from Bio import pairwise2\n",
    "from nemo.collections.asr import helpers\n",
    "from nemo.collections import asr as nemo_asr"
   ]
  },
  {
   "cell_type": "markdown",
   "metadata": {},
   "source": [
    "## Initial infer"
   ]
  },
  {
   "cell_type": "code",
   "execution_count": 93,
   "metadata": {},
   "outputs": [],
   "source": [
    "DATA = pathlib.Path('~/data').expanduser()\n",
    "# Checkpoint of QuartzNet trained in NeMo with first layer's stride set to 1.\n",
    "# https://ngc.nvidia.com/datasets/iDeVV83pQPOZezEC8WHWVg\n",
    "NGC_CKPT = DATA / 'ckpts/nemo-qn15x5-stride1-libritts'\n",
    "# Dataset to infer for (structure should comply with NeMo)\n",
    "DATASET = DATA / 'libritts/local/dev-clean.json'"
   ]
  },
  {
   "cell_type": "code",
   "execution_count": 94,
   "metadata": {},
   "outputs": [
    {
     "name": "stdout",
     "output_type": "stream",
     "text": [
      "[NeMo I 2020-07-03 05:54:58 collections:158] Dataset loaded with 5736 files totalling 8.97 hours\n",
      "[NeMo I 2020-07-03 05:54:58 collections:159] 0 files were filtered totalling 0.00 hours\n"
     ]
    }
   ],
   "source": [
    "NGC_CKPT0 = NGC_CKPT / '0/QuartzNet-lr_0.01-bs_32-e_300-wd_0.001-opt_novograd'\n",
    "yaml_loader = yaml.YAML(typ='safe')\n",
    "with open(NGC_CKPT0 / 'quartznet15x5s1sr24_2020-07-01_08-06-19.yaml') as f:\n",
    "    config = attrdict.AttrDict(yaml_loader.load(f))\n",
    "\n",
    "nemo.core.NeuralModuleFactory(placement=nemo.core.DeviceType.GPU)\n",
    "data_layer = nemo_asr.AudioToTextDataLayer(\n",
    "    manifest_filepath=str(DATASET),\n",
    "    sample_rate=config.sample_rate,\n",
    "    labels=config.labels,\n",
    "    batch_size=64,\n",
    "    shuffle=False,\n",
    ")"
   ]
  },
  {
   "cell_type": "code",
   "execution_count": 95,
   "metadata": {},
   "outputs": [
    {
     "name": "stdout",
     "output_type": "stream",
     "text": [
      "[NeMo I 2020-07-03 05:54:58 features:144] PADDING: 16\n",
      "[NeMo I 2020-07-03 05:54:58 features:152] STFT using conv\n"
     ]
    }
   ],
   "source": [
    "data_preprocessor = nemo_asr.AudioToMelSpectrogramPreprocessor(\n",
    "    sample_rate=config.sample_rate,\n",
    "    **config.AudioToMelSpectrogramPreprocessor\n",
    ")\n",
    "jasper_encoder = nemo_asr.JasperEncoder(\n",
    "    feat_in=config.AudioToMelSpectrogramPreprocessor[\"features\"],\n",
    "    **config.JasperEncoder\n",
    ")\n",
    "jasper_decoder = nemo_asr.JasperDecoderForCTC(\n",
    "    feat_in=config.JasperEncoder[\"jasper\"][-1][\"filters\"],\n",
    "    num_classes=len(config.labels)\n",
    ")\n",
    "greedy_decoder = nemo_asr.GreedyCTCDecoder()\n",
    "\n",
    "audio_signal_e1, a_sig_length_e1, transcript_e1, transcript_len_e1 = data_layer()\n",
    "processed_signal_e1, p_length_e1 = data_preprocessor(input_signal=audio_signal_e1, length=a_sig_length_e1)\n",
    "encoded_e1, encoded_len_e1 = jasper_encoder(audio_signal=processed_signal_e1, length=p_length_e1)\n",
    "log_probs_e1 = jasper_decoder(encoder_output=encoded_e1)\n",
    "predictions_e1 = greedy_decoder(log_probs=log_probs_e1)"
   ]
  },
  {
   "cell_type": "code",
   "execution_count": 96,
   "metadata": {},
   "outputs": [
    {
     "name": "stdout",
     "output_type": "stream",
     "text": [
      "[NeMo I 2020-07-03 05:54:58 actions:1549] Restoring JasperEncoder from /home/stanislavv/data/ckpts/nemo-qn15x5-stride1-libritts/0/QuartzNet-lr_0.01-bs_32-e_300-wd_0.001-opt_novograd/checkpoints/JasperEncoder-STEP-100808.pt\n",
      "[NeMo I 2020-07-03 05:54:58 actions:1549] Restoring JasperDecoderForCTC from /home/stanislavv/data/ckpts/nemo-qn15x5-stride1-libritts/0/QuartzNet-lr_0.01-bs_32-e_300-wd_0.001-opt_novograd/checkpoints/JasperDecoderForCTC-STEP-100808.pt\n",
      "[NeMo I 2020-07-03 05:54:59 actions:683] Evaluating batch 0 out of 90\n",
      "[NeMo I 2020-07-03 05:55:05 actions:683] Evaluating batch 9 out of 90\n",
      "[NeMo I 2020-07-03 05:55:13 actions:683] Evaluating batch 18 out of 90\n",
      "[NeMo I 2020-07-03 05:55:22 actions:683] Evaluating batch 27 out of 90\n",
      "[NeMo I 2020-07-03 05:55:29 actions:683] Evaluating batch 36 out of 90\n",
      "[NeMo I 2020-07-03 05:55:37 actions:683] Evaluating batch 45 out of 90\n",
      "[NeMo I 2020-07-03 05:55:44 actions:683] Evaluating batch 54 out of 90\n",
      "[NeMo I 2020-07-03 05:55:53 actions:683] Evaluating batch 63 out of 90\n",
      "[NeMo I 2020-07-03 05:56:03 actions:683] Evaluating batch 72 out of 90\n",
      "[NeMo I 2020-07-03 05:56:11 actions:683] Evaluating batch 81 out of 90\n"
     ]
    }
   ],
   "source": [
    "eval_tensors = [\n",
    "    log_probs_e1, predictions_e1, transcript_e1, transcript_len_e1, \n",
    "    encoded_len_e1, processed_signal_e1, p_length_e1,\n",
    "]\n",
    "evaluated_tensors = runner.infer(\n",
    "    tensors=eval_tensors,\n",
    "    checkpoint_dir=str(NGC_CKPT0 / 'checkpoints'),\n",
    ")"
   ]
  },
  {
   "cell_type": "code",
   "execution_count": 121,
   "metadata": {},
   "outputs": [
    {
     "data": {
      "text/plain": [
       "0.16278741712512343"
      ]
     },
     "execution_count": 121,
     "metadata": {},
     "output_type": "execute_result"
    }
   ],
   "source": [
    "references = helpers.post_process_transcripts(evaluated_tensors[2], evaluated_tensors[3], config.labels)\n",
    "greedy_hypotheses = helpers.post_process_predictions(evaluated_tensors[1], config.labels)\n",
    "denorm_hypot = []\n",
    "for t in greedy_hypotheses:\n",
    "    for c in ',.!?':\n",
    "        t = t.replace(f' {c}', c)\n",
    "    denorm_hypot.append(t)\n",
    "helpers.word_error_rate(denorm_hypot, references)  # WER"
   ]
  },
  {
   "cell_type": "code",
   "execution_count": 98,
   "metadata": {},
   "outputs": [
    {
     "data": {
      "text/plain": [
       "0.06151288139092478"
      ]
     },
     "execution_count": 98,
     "metadata": {},
     "output_type": "execute_result"
    }
   ],
   "source": [
    "references = helpers.post_process_transcripts(evaluated_tensors[2], evaluated_tensors[3], config.labels)\n",
    "greedy_hypotheses = helpers.post_process_predictions(evaluated_tensors[1], config.labels)\n",
    "helpers.word_error_rate(greedy_hypotheses, references, use_cer=True)  # CER"
   ]
  },
  {
   "cell_type": "markdown",
   "metadata": {},
   "source": [
    "## Logic"
   ]
  },
  {
   "cell_type": "code",
   "execution_count": 46,
   "metadata": {},
   "outputs": [
    {
     "name": "stdout",
     "output_type": "stream",
     "text": [
      "  a b c d e f g h i j k l m n o p q r s t u v w x y z , . ! ? ; : - \" ' ( ) [ ]\n"
     ]
    }
   ],
   "source": [
    "labels = list(config.labels)\n",
    "print(*labels)"
   ]
  },
  {
   "cell_type": "code",
   "execution_count": 123,
   "metadata": {},
   "outputs": [
    {
     "data": {
      "text/plain": [
       "(147, 1120, (1120, 41))"
      ]
     },
     "execution_count": 123,
     "metadata": {},
     "output_type": "execute_result"
    }
   ],
   "source": [
    "text = evaluated_tensors[2][0]\n",
    "text_len = evaluated_tensors[3][0]\n",
    "ctc_tokens = evaluated_tensors[1][0]\n",
    "ctc_logprobs = evaluated_tensors[0][0]\n",
    "ctc_len = evaluated_tensors[4][0]\n",
    "mel_len = evaluated_tensors[-1][0]\n",
    "text1 = text[0].numpy()\n",
    "text_len1 = text_len[0].numpy().item()\n",
    "ctc_tokens1 = ctc_tokens[0].numpy()\n",
    "ctc_logprobs1 = ctc_logprobs[0].numpy()\n",
    "ctc_len1 = ctc_len[0].numpy().item()\n",
    "mel_len1 = mel_len[0].numpy().item()\n",
    "text1 = list(text1[:text_len1])\n",
    "ctc_tokens1 = list(ctc_tokens1[:ctc_len1])\n",
    "ctc_logprobs1 = ctc_logprobs1[:ctc_len1]\n",
    "len(text1), len(ctc_tokens1), ctc_logprobs1.shape"
   ]
  },
  {
   "cell_type": "code",
   "execution_count": 135,
   "metadata": {},
   "outputs": [
    {
     "name": "stdout",
     "output_type": "stream",
     "text": [
      "GT: s e e , _ b e n e a t h _ y o u r _ f e e t _ i s _ t h e _ m a r k i n g _ o f _ g r e a t _ t r e e _ t r u n k s _ l y i n g _ a s l a n t _ a c r o s s _ t h e _ f l o o r , _ a n d _ t h e _ f o r m s _ o f _ g i g a n t i c _ p a l m _ l e a v e s _ s t r e w e d _ a m o n g _ t h e m .\n",
      "CTC: ~ s ~ e ~ e ~ _ b ~ e ~ n ~ e ~ a t h ~ _ y ~ o u ~ r ~ _ f ~ e ~ e ~ t ~ _ ~ i ~ s ~ _ t h e ~ _ ~ m ~ a ~ r k ~ i ~ n g ~ _ ~ o ~ f ~ _ g r e a ~ t ~ _ t r e ~ e ~ _ t r u ~ n k s ~ _ l ~ y ~ i ~ n g ~ _ ~ a ~ s l ~ a ~ n t ~ _ ~ a ~ c r o ~ s ~ s ~ _ t h e ~ _ f l o ~ o r ~ _ , _ ~ a ~ n d ~ _ t h e ~ _ f ~ o ~ r ~ m ~ s ~ _ ~ o ~ f ~ _ g ~ i ~ g ~ a ~ n t ~ i ~ c ~ _ p ~ a ~ l ~ m ~ _ l ~ e ~ a ~ v e s ~ _ s t r o ~ d e d ~ _ ~ a ~ m ~ o ~ n g ~ _ t h ~ i ~ m ~ _ . ~\n"
     ]
    }
   ],
   "source": [
    "ctc_labels = ['_'] + labels[1:] + ['~']\n",
    "print('GT:', *(ctc_labels[c] for c in text1))\n",
    "print('CTC:', *(ctc_labels[c] for c, _ in itertools.groupby(ctc_tokens1)))"
   ]
  },
  {
   "cell_type": "code",
   "execution_count": 124,
   "metadata": {},
   "outputs": [],
   "source": [
    "bs = np.exp(ctc_logprobs1[:, -1])\n",
    "best_nb = np.exp(ctc_logprobs1[:, :-1].max(-1))\n",
    "probs = ctc_logprobs1[:, :-1]\n",
    "probs.sort()\n",
    "best2_nb = np.exp(probs[:, -2])"
   ]
  },
  {
   "cell_type": "code",
   "execution_count": 125,
   "metadata": {},
   "outputs": [
    {
     "data": {
      "image/png": "[encoded data removed]",
      "text/plain": [
       "<Figure size 1440x288 with 1 Axes>"
      ]
     },
     "metadata": {
      "needs_background": "light"
     },
     "output_type": "display_data"
    }
   ],
   "source": [
    "plt.figure(figsize=(20, 4))\n",
    "plt.plot(bs[:50], label='blank')\n",
    "plt.plot(best_nb[:50], label='best no-blank');\n",
    "plt.plot(best2_nb[:50], label='2nd best no-blank');\n",
    "plt.legend();"
   ]
  },
  {
   "cell_type": "code",
   "execution_count": 126,
   "metadata": {},
   "outputs": [
    {
     "data": {
      "text/plain": [
       "array([ 0, 18,  3,  6,  0,  7,  1,  3, 14,  2,  8,  1,  2, 14,  1,  3,  1,\n",
       "        6, 17,  1,  8,  5,  1, 31,  4,  4, 10,  1,  2,  5,  9,  3,  3, 10,\n",
       "        2, 12,  2,  1, 30,  3,  5, 28,  1,  2,  1,  2,  8, 24,  1,  2, 10,\n",
       "       14,  9,  1,  2, 13,  1,  1,  3, 43,  1, 10, 10,  1,  1, 10, 10, 16,\n",
       "        2, 10,  7,  1, 27, 18,  2,  2,  2,  8,  5, 12,  1,  2,  1, 16,  1,\n",
       "        2,  1, 13, 84, 22,  6,  3,  3,  1,  5,  1,  2,  2, 14,  1,  4, 13,\n",
       "        2,  4, 29,  4,  8, 11,  1,  3, 26,  8,  9,  1,  9, 14, 10,  1,  3,\n",
       "        9,  7, 11,  1,  3,  8,  2,  2,  3, 28,  1,  1,  2,  0,  7,  8,  5,\n",
       "       26,  2, 10,  3,  7,  1, 14,  1,  1,  1, 18, 14,  3])"
      ]
     },
     "execution_count": 126,
     "metadata": {},
     "output_type": "execute_result"
    }
   ],
   "source": [
    "class PadProcesser:\n",
    "    def __init__(self, labels):\n",
    "        labels = labels + ['~']\n",
    "        self.blank_id = len(labels) - 1\n",
    "        self.space_id = labels.index(' ')\n",
    "        self.labels_map = dict([(i, labels[i]) for i in range(len(labels))])\n",
    "    \n",
    "    def bound_text(self, tokens):\n",
    "        return [self.space_id] + tokens + [self.space_id]\n",
    "    \n",
    "    def bound_ctc(self, tokens, logprobs):\n",
    "        tokens = [self.space_id, self.blank_id] + tokens + [self.blank_id, self.space_id]\n",
    "        \n",
    "        logprobs = np.lib.pad(logprobs, ((2, 2), (0, 0)), 'edge')\n",
    "\n",
    "        def swap(col, a, b):\n",
    "            logprobs[col][a], logprobs[col][b] = logprobs[col][b], logprobs[col][a]\n",
    "        \n",
    "        first_token, last_token = tokens[2], tokens[-3]\n",
    "        swap(0, first_token, self.space_id)\n",
    "        swap(1, first_token, self.blank_id)\n",
    "        swap(-1, last_token, self.space_id)\n",
    "        swap(-2, last_token, self.blank_id)\n",
    "\n",
    "        return tokens, logprobs\n",
    "    \n",
    "    def merge(self, tokens):\n",
    "        output_tokens = []\n",
    "        output_cnts = []\n",
    "        cnt = 0\n",
    "        for i in range(len(tokens)):\n",
    "            if i != 0 and (tokens[i - 1] != tokens[i]):\n",
    "                output_tokens.append(tokens[i - 1])\n",
    "                output_cnts.append(cnt)\n",
    "\n",
    "                cnt = 0\n",
    "\n",
    "            cnt += 1\n",
    "\n",
    "        output_tokens.append(tokens[-1])\n",
    "        output_cnts.append(cnt)\n",
    "        \n",
    "        assert sum(output_cnts) == len(tokens), f'SUM_CHECK {sum(output_cnts)} vs {len(tokens)}'\n",
    "\n",
    "        return output_tokens, output_cnts\n",
    "    \n",
    "    def merge_with_blanks(self, tokens, cnts, logprobs=None):\n",
    "        def choose_sep(l, r, a, b):\n",
    "            # `tokens[l] == a and tokens[r] == b`.\n",
    "            sum_a, sum_b = logprobs[l, a], logprobs[l + 1:r + 1, b].sum()\n",
    "            best_sum, best_sep = sum_a + sum_b, 0\n",
    "            for sep in range(1, r - l):\n",
    "                sum_a += logprobs[l + sep, a]\n",
    "                sum_b -= logprobs[l + sep, b]\n",
    "                if sum_a + sum_b > best_sum:\n",
    "                    best_sum, best_sep = sum_a + sum_b, sep\n",
    "\n",
    "            return best_sep\n",
    "        \n",
    "        output_tokens = []\n",
    "        output_durs = []\n",
    "        blank_cnt = 0\n",
    "        total_cnt = 0\n",
    "        for token, cnt in zip(tokens, cnts):\n",
    "            total_cnt += cnt\n",
    "            if token == self.blank_id:\n",
    "                blank_cnt += cnt\n",
    "                continue\n",
    "            \n",
    "            output_tokens.append(token)\n",
    "            \n",
    "            if logprobs is None:\n",
    "                # Half half.\n",
    "                left_cnt = blank_cnt // 2\n",
    "            else:\n",
    "                # Clever sep choice based on sum of log probs.\n",
    "                left_cnt = choose_sep(\n",
    "                    l=total_cnt - cnt - blank_cnt - 1,\n",
    "                    r=total_cnt - cnt,\n",
    "                    a=output_tokens[-1],\n",
    "                    b=token,\n",
    "                )\n",
    "            right_cnt = blank_cnt - left_cnt\n",
    "            blank_cnt = 0\n",
    "            \n",
    "            if left_cnt:\n",
    "                output_durs[-1] += left_cnt\n",
    "            output_durs.append(cnt + right_cnt)\n",
    "        \n",
    "        output_durs[-1] += blank_cnt\n",
    "\n",
    "        assert sum(output_durs) == sum(cnts), f'SUM_CHECK {sum(output_durs)} vs {sum(cnts)}'\n",
    "\n",
    "        return output_tokens, output_durs\n",
    "    \n",
    "    def align(self, output_tokens, gt_text):\n",
    "        def make_str(tokens):\n",
    "            return ''.join(self.labels_map[c] for c in tokens)\n",
    "        \n",
    "        s = make_str(output_tokens)\n",
    "        t = make_str(gt_text)\n",
    "        alignmet = pairwise2.align.globalxx(s, t, gap_char='%')[0]\n",
    "        sa, ta, *_ = alignmet\n",
    "        return sa, ta\n",
    "    \n",
    "    def generate(self, gt_text, alignment, durs):\n",
    "        output_tokens = []\n",
    "        output_cnts = []\n",
    "        si, ti = 0, 0\n",
    "#         print(len(durs))\n",
    "        assert len(alignment[0]) == len(alignment[1])\n",
    "        for sc, tc in zip(*alignment):\n",
    "#             print(si, sc, ti, tc)\n",
    "            if sc == '%' and tc == '%':\n",
    "                print('NO WAY')\n",
    "                continue\n",
    "            \n",
    "            if sc == '%':\n",
    "                output_tokens.append(self.blank_id)\n",
    "                output_cnts.append(durs[si])\n",
    "                si += 1\n",
    "            elif tc == '%':\n",
    "                output_tokens.append(gt_text[ti])\n",
    "                output_cnts.append(0)\n",
    "                ti += 1\n",
    "            else:\n",
    "                output_tokens.append(gt_text[ti])\n",
    "                output_cnts.append(durs[si])\n",
    "                si += 1\n",
    "                ti += 1\n",
    "\n",
    "        assert sum(output_cnts) == sum(durs)\n",
    "        \n",
    "        return output_tokens, output_cnts\n",
    "\n",
    "    def __call__(self, text, ctc_tokens, ctc_logprobs, mel_len):\n",
    "        # This adds +2 tokens.\n",
    "        text = self.bound_text(text)\n",
    "        # This add +4 tokens, 2 of them are blank.\n",
    "        ctc_tokens, ctc_logprobs = self.bound_ctc(ctc_tokens, ctc_logprobs)\n",
    "\n",
    "        ctc_tokens, ctc_cnts = self.merge(ctc_tokens)\n",
    "        ctc_tokens, ctc_durs = self.merge_with_blanks(ctc_tokens, ctc_cnts, ctc_logprobs)\n",
    "        \n",
    "        alignment = self.align(text, ctc_tokens)\n",
    "        tokens, cnts = self.generate(text, alignment, ctc_durs)\n",
    "        tokens, durs = self.merge_with_blanks(tokens, cnts)\n",
    "        assert tokens == text, 'EXACT_TOKENS_MATCH_CHECK'\n",
    "\n",
    "        def adjust(start, direction, value):\n",
    "            i = start\n",
    "            while value != 0:\n",
    "                dur = durs[i]\n",
    "                \n",
    "                if value < 0:\n",
    "                    durs[i] = dur - value\n",
    "                else:\n",
    "                    durs[i] = max(dur - value, 0)\n",
    "                \n",
    "                value -= dur - durs[i]\n",
    "                i += direction\n",
    "\n",
    "        adjust(0, 1, 4)\n",
    "        adjust(-1, -1, sum(durs) - mel_len)  # Including 4 suffix bound tokens.\n",
    "        assert durs[0] >= 0, f'{durs[0]}'\n",
    "        assert durs[-1] >= 0, f'{durs[-1]}'\n",
    "        \n",
    "        durs = np.array(durs, dtype=np.long)\n",
    "        assert durs.shape[0] == len(text), f'LEN_CHECK {durs.shape[0]} vs {len(text)}'\n",
    "        assert np.sum(durs) == mel_len, f'SUM_CHECK {np.sum(durs)} vs {mel_len}'\n",
    "\n",
    "        return durs\n",
    "\n",
    "processer = PadProcesser(labels)\n",
    "durs1 = processer(text1, ctc_tokens1, ctc_logprobs1, mel_len1)\n",
    "durs1"
   ]
  },
  {
   "cell_type": "code",
   "execution_count": 127,
   "metadata": {},
   "outputs": [],
   "source": [
    "class Seq:\n",
    "    def __init__(self, tokens, cnts=None):\n",
    "        if cnts is None:\n",
    "            cnts = np.ones(len(tokens), dtype=np.long)\n",
    "\n",
    "        assert len(tokens) == len(cnts)\n",
    "        self.tokens = tokens\n",
    "        self.cnts = cnts\n",
    "    \n",
    "    def __repr__(self):\n",
    "        return repr(list(zip(self.tokens, self.cnts)))\n",
    "    \n",
    "    @property\n",
    "    def total(self):\n",
    "        return sum(self.cnts)\n",
    "    \n",
    "    def merge(self):\n",
    "        output_tokens = []\n",
    "        output_cnts = []\n",
    "        \n",
    "        cnt = 0\n",
    "        for i in range(len(self.tokens)):\n",
    "            if i != 0 and (self.tokens[i - 1] != self.tokens[i]):\n",
    "                output_tokens.append(self.tokens[i - 1])\n",
    "                output_cnts.append(cnt)\n",
    "\n",
    "                cnt = 0\n",
    "\n",
    "            cnt += self.cnts[i]\n",
    "\n",
    "        output_tokens.append(self.tokens[-1])\n",
    "        output_cnts.append(cnt)\n",
    "        \n",
    "        assert sum(output_cnts) == sum(self.cnts), \\\n",
    "            f'SUM-CHECK {sum(output_cnts)} vs {sum(self.cnts)}'\n",
    "\n",
    "        return Seq(output_tokens, output_cnts)\n",
    "    \n",
    "    def full_pad(self, blank_id, blank_cnt=1):\n",
    "        output_tokens = [blank_id]\n",
    "        output_cnts = [blank_cnt]\n",
    "\n",
    "        for token, cnt in zip(self.tokens, self.cnts):\n",
    "            output_tokens.append(token)\n",
    "            output_cnts.append(cnt)\n",
    "            \n",
    "            output_tokens.append(blank_id)\n",
    "            output_cnts.append(blank_cnt)\n",
    "        \n",
    "        return Seq(output_tokens, output_cnts)\n",
    "    \n",
    "    def adjust_cnt(self, value, start=-1, direction='left'):\n",
    "        tokens, cnts = self.tokens, self.cnts.copy()\n",
    "        \n",
    "        i, di = start, -1 if direction == 'left' else 1\n",
    "        while value != 0:\n",
    "            cnt = cnts[i]\n",
    "\n",
    "            if value < 0:\n",
    "                cnts[i] = cnt - value\n",
    "            else:\n",
    "                cnts[i] = max(cnt - value, 0)\n",
    "\n",
    "            value -= cnt - cnts[i]\n",
    "            i += di\n",
    "        \n",
    "        return Seq(tokens, cnts)\n",
    "    \n",
    "    def split2(self):\n",
    "        tokens1, cnts1 = [], []\n",
    "        tokens2, cnts2 = [], []\n",
    "        turn = 1\n",
    "        \n",
    "        for token, cnt in zip(self.tokens, self.cnts):\n",
    "            if turn == 1:\n",
    "                tokens1.append(token)\n",
    "                cnts1.append(cnt)\n",
    "            else:\n",
    "                tokens2.append(token)\n",
    "                cnts2.append(cnt)\n",
    "            \n",
    "            turn = 1 if turn == 2 else 2\n",
    "        \n",
    "        return Seq(tokens1, cnts1), Seq(tokens2, cnts2)"
   ]
  },
  {
   "cell_type": "code",
   "execution_count": 133,
   "metadata": {},
   "outputs": [
    {
     "data": {
      "text/plain": [
       "(array([ 19,   2,   5,   0,   3,   0,   2,  12,   2,   6,   0,   0,  10,\n",
       "          0,   2,   0,   3,  16,   0,   2,   8,   1,  20,   3,   3,   5,\n",
       "          0,   0,   0,  11,   1,   2,   9,   0,  10,   2,   0,  20,   3,\n",
       "          3,  21,   0,   0,   0,   0,   7,  21,   0,   0,   0,   8,  18,\n",
       "          0,   0,   0,  12,   0,   0,  31,   0,   9,   7,   2,   0,   7,\n",
       "          3,  21,   0,   1,  13,   0,  20,   3,  15,   0,   0,   8,   1,\n",
       "         12,   0,   0,   0,  13,   0,   0,   0,  11,   0, 104,   0,   3,\n",
       "          2,   0,   2,   0,   0,   0,  11,   0,   2,  12,   1,   1,  23,\n",
       "          3,   3,  10,   0,   2,  25,   2,  13,   0,   7,   3,  13,   0,\n",
       "          2,   8,   1,  13,   0,   2,   7,   1,   0,   0,  23,   0,   0,\n",
       "          0,   0,  13,   1,   0,  21,   2,   9,   2,   6,   0,  11,   0,\n",
       "          0,   1,   5,  25,   1]),\n",
       " array([ 1,  1,  1,  0,  4,  1,  1,  1,  1,  2,  1,  1,  5,  1,  1,  1,  1,\n",
       "         3,  1,  1,  1,  1, 11,  1,  1,  5,  1,  2,  1,  2,  1,  1,  2,  2,\n",
       "         1,  1,  1,  9,  1,  1,  8,  1,  2,  1,  2,  1,  3,  1,  2,  2,  1,\n",
       "         4,  1,  2,  1,  1,  1,  2, 13,  1,  1,  1,  1,  1,  3,  1,  1,  2,\n",
       "         1,  2,  1,  7,  1,  1,  2,  1,  1,  2,  2,  1,  2,  1,  3,  1,  2,\n",
       "         1,  2,  1,  1,  5,  1,  1,  1,  3,  1,  2,  1,  4,  1,  1,  2,  1,\n",
       "         2,  7,  1,  1,  5,  1,  1,  1,  1,  1,  1,  2,  2,  6,  1,  1,  1,\n",
       "         1,  3,  1,  1,  1,  1,  2,  1,  7,  1,  1,  2,  0,  0,  1,  1,  8,\n",
       "         1,  1,  1,  1,  1,  3,  1,  1,  0,  1,  1]))"
      ]
     },
     "execution_count": 133,
     "metadata": {},
     "output_type": "execute_result"
    }
   ],
   "source": [
    "class FullProcessor(PadProcesser):\n",
    "    def __call__(self, text, ctc_tokens, ctc_logprobs, mel_len):\n",
    "        text = Seq(text).full_pad(self.blank_id)\n",
    "        ctc = Seq(ctc_tokens).merge().full_pad(self.blank_id, blank_cnt=0).merge()\n",
    "        \n",
    "        alignment = self.align(text.tokens, ctc.tokens)\n",
    "        gen = Seq(*self.generate(text.tokens, alignment, ctc.cnts)).merge()\n",
    "#         gen = gen.merge().adjust_cnt(gen.total - mel_len)\n",
    "        \n",
    "        # Two durs conditions.\n",
    "        assert gen.tokens == text.tokens\n",
    "        assert gen.total == mel_len\n",
    "#         assert abs(2 * gen.total - mel_len) <= 1\n",
    "        \n",
    "        blanks, text = gen.split2()\n",
    "        blanks = np.array(blanks.cnts, dtype=np.long)\n",
    "        cnts = np.array(text.cnts, dtype=np.long)\n",
    "        \n",
    "        assert len(blanks) == len(cnts) + 1\n",
    "        \n",
    "        return blanks, cnts\n",
    "\n",
    "\n",
    "processer = FullProcessor(labels)\n",
    "durs1 = processer(text1, ctc_tokens1, ctc_logprobs1, mel_len1)\n",
    "durs1"
   ]
  },
  {
   "cell_type": "code",
   "execution_count": 137,
   "metadata": {},
   "outputs": [],
   "source": [
    "def adjust_durs(b, d):\n",
    "    \"\"\"Shares 1s from blanks to durs.\"\"\"\n",
    "    b, d, t = b.copy(), d.copy(), sum(b) + sum(d)\n",
    "\n",
    "    doable = sum(b) >= len(d)\n",
    "\n",
    "    for i in range(len(d)):\n",
    "        if d[i] == 0:\n",
    "\n",
    "            l, r = i, i + 1\n",
    "            while True:\n",
    "                if l < 0 and r >= len(b):\n",
    "                    break\n",
    "\n",
    "                if (l >= 0 and b[l] > 0) and (r >= len(b) or b[l] >= b[r]):\n",
    "                    d[i] = 1\n",
    "                    b[l] -= 1\n",
    "                    break\n",
    "\n",
    "                if (r < len(b) and b[r] > 0) and (l < 0 or b[r] > b[l]):\n",
    "                    d[i] = 1\n",
    "                    b[r] -= 1\n",
    "                    break\n",
    "\n",
    "                if l >= 0 and b[l] == 0:  # noqa\n",
    "                    l -= 1  # noqa\n",
    "\n",
    "                if r < len(b) and b[r] == 0:\n",
    "                    r += 1\n",
    "\n",
    "    assert sum(b) + sum(d) == t\n",
    "    if doable:\n",
    "        assert (b < 0).sum() == 0\n",
    "\n",
    "    return (b, d), doable"
   ]
  },
  {
   "cell_type": "markdown",
   "metadata": {},
   "source": [
    "## Infering all samples"
   ]
  },
  {
   "cell_type": "code",
   "execution_count": 147,
   "metadata": {},
   "outputs": [
    {
     "data": {
      "application/vnd.jupyter.widget-view+json": {
       "model_id": "850df9cabe4544fd8eb0f287b7e45cbb",
       "version_major": 2,
       "version_minor": 0
      },
      "text/plain": [
       "HBox(children=(FloatProgress(value=0.0, max=89.0), HTML(value='')))"
      ]
     },
     "metadata": {},
     "output_type": "display_data"
    },
    {
     "name": "stdout",
     "output_type": "stream",
     "text": [
      "\n"
     ]
    },
    {
     "name": "stderr",
     "output_type": "stream",
     "text": [
      "/home/stanislavv/Apps/Conda/envs/stasbel-speech/lib/python3.6/site-packages/numpy/core/_asarray.py:136: VisibleDeprecationWarning: Creating an ndarray from ragged nested sequences (which is a list-or-tuple of lists-or-tuples-or ndarrays with different lengths or shapes) is deprecated. If you meant to do this, you must specify 'dtype=object' when creating the ndarray\n",
      "  return array(a, dtype, copy=False, order=order, subok=True)\n"
     ]
    }
   ],
   "source": [
    "durs_dir = DATA / 'librimeta/durs/nemo-qn15x5-stride1-libritts'\n",
    "durs_dir.mkdir(exist_ok=True)\n",
    "\n",
    "durs = []\n",
    "for batch in tqdm.notebook.tqdm(zip(*evaluated_tensors), total=len(data_layer) // 64):\n",
    "    text = batch[2].numpy()\n",
    "    text_len = batch[3].numpy()\n",
    "    ctc_tokens = batch[1].numpy()\n",
    "    ctc_logprobs = batch[0].numpy()\n",
    "    ctc_len = batch[4].numpy()\n",
    "    mel_len = batch[-1].numpy()\n",
    "\n",
    "    for text1, text_len1, ctc_tokens1, ctc_logprobs1, ctc_len1, mel_len1 in zip(\n",
    "        text, text_len, ctc_tokens, ctc_logprobs, ctc_len, mel_len\n",
    "    ):\n",
    "        text1 = list(text1[:text_len1])\n",
    "        ctc_tokens1 = list(ctc_tokens1[:ctc_len1])\n",
    "        ctc_logprobs1 = ctc_logprobs1[:ctc_len1]\n",
    "        mel_len1 = mel_len1.item()\n",
    "\n",
    "        durs1 = processer(text1, ctc_tokens1, ctc_logprobs1, mel_len1)\n",
    "        \n",
    "        durs1, _ = adjust_durs(*durs1)\n",
    "        assert (durs1[-1] == 0).sum() == 0\n",
    "        \n",
    "        durs.append(durs1)\n",
    "\n",
    "\n",
    "np.save(durs_dir / 'dev-clean.npy', durs, allow_pickle=True)"
   ]
  },
  {
   "cell_type": "code",
   "execution_count": 149,
   "metadata": {},
   "outputs": [
    {
     "data": {
      "text/plain": [
       "array([ 19,   2,   5,   0,   2,   0,   2,  12,   2,   6,   0,   0,  10,\n",
       "         0,   2,   0,   3,  16,   0,   2,   8,   1,  20,   3,   3,   5,\n",
       "         0,   0,   0,  11,   1,   2,   9,   0,  10,   2,   0,  20,   3,\n",
       "         3,  21,   0,   0,   0,   0,   7,  21,   0,   0,   0,   8,  18,\n",
       "         0,   0,   0,  12,   0,   0,  31,   0,   9,   7,   2,   0,   7,\n",
       "         3,  21,   0,   1,  13,   0,  20,   3,  15,   0,   0,   8,   1,\n",
       "        12,   0,   0,   0,  13,   0,   0,   0,  11,   0, 104,   0,   3,\n",
       "         2,   0,   2,   0,   0,   0,  11,   0,   2,  12,   1,   1,  23,\n",
       "         3,   3,  10,   0,   2,  25,   2,  13,   0,   7,   3,  13,   0,\n",
       "         2,   8,   1,  13,   0,   2,   7,   1,   0,   0,  23,   0,   0,\n",
       "         0,   0,  11,   1,   0,  21,   2,   9,   2,   6,   0,  11,   0,\n",
       "         0,   1,   4,  25,   1])"
      ]
     },
     "execution_count": 149,
     "metadata": {},
     "output_type": "execute_result"
    }
   ],
   "source": [
    "blanks, durs = np.load(durs_dir / 'dev-clean.npy', allow_pickle=True)[0]\n",
    "blanks"
   ]
  }
 ],
 "metadata": {
  "kernelspec": {
   "display_name": "Python 3",
   "language": "python",
   "name": "python3"
  },
  "language_info": {
   "codemirror_mode": {
    "name": "ipython",
    "version": 3
   },
   "file_extension": ".py",
   "mimetype": "text/x-python",
   "name": "python",
   "nbconvert_exporter": "python",
   "pygments_lexer": "ipython3",
   "version": "3.6.9"
  }
 },
 "nbformat": 4,
 "nbformat_minor": 2
}
